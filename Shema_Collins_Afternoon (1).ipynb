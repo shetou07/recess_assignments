{
 "cells": [
  {
   "cell_type": "markdown",
   "id": "2a9bbb70",
   "metadata": {},
   "source": [
    "<b> PART ONE<br>\n",
    "    SERIES</b>"
   ]
  },
  {
   "cell_type": "markdown",
   "id": "b9bd07d7",
   "metadata": {},
   "source": [
    "1. Comparing two series using pandas"
   ]
  },
  {
   "cell_type": "code",
   "execution_count": 3,
   "id": "df8ed068",
   "metadata": {},
   "outputs": [
    {
     "name": "stdout",
     "output_type": "stream",
     "text": [
      "0    False\n",
      "1    False\n",
      "2    False\n",
      "3    False\n",
      "4     True\n",
      "dtype: bool\n"
     ]
    }
   ],
   "source": [
    "import pandas as pd\n",
    "\n",
    "# Using the below series\n",
    "serie1 = pd.Series([4, 65, 436, 3, 9])\n",
    "serie2 = pd.Series([7, 0, 3, 897, 9])\n",
    "\n",
    "# Comparing the elements of the series\n",
    "compare= serie1 == serie2\n",
    "\n",
    "print(compare)\n"
   ]
  },
  {
   "cell_type": "markdown",
   "id": "d1acb6bf",
   "metadata": {},
   "source": [
    "2. Using pandas to add, subtract, multiply, divide two series"
   ]
  },
  {
   "cell_type": "code",
   "execution_count": 4,
   "id": "de1d3447",
   "metadata": {},
   "outputs": [
    {
     "name": "stdout",
     "output_type": "stream",
     "text": [
      "Addition:\n",
      "0     3\n",
      "1     7\n",
      "2    11\n",
      "3    15\n",
      "4    23\n",
      "dtype: int64\n",
      "Subtraction:\n",
      "0    1\n",
      "1    1\n",
      "2    1\n",
      "3    1\n",
      "4    5\n",
      "dtype: int64\n",
      "Multiplication:\n",
      "0      2\n",
      "1     12\n",
      "2     30\n",
      "3     56\n",
      "4    126\n",
      "dtype: int64\n",
      "Division:\n",
      "0    2.000000\n",
      "1    1.333333\n",
      "2    1.200000\n",
      "3    1.142857\n",
      "4    1.555556\n",
      "dtype: float64\n"
     ]
    }
   ],
   "source": [
    "#Series to be used \n",
    "s1 = pd.Series([2, 4, 6, 8, 14])\n",
    "s2 = pd.Series([1, 3, 5, 7, 9])\n",
    "\n",
    "# Addition\n",
    "addition = s1 + s2\n",
    "print(\"Addition:\")\n",
    "print(addition)\n",
    "\n",
    "# Subtraction\n",
    "subtraction = s1 - s2\n",
    "print(\"Subtraction:\")\n",
    "print(subtraction)\n",
    "\n",
    "# Multiplication\n",
    "multiplication = s1 * s2\n",
    "print(\"Multiplication:\")\n",
    "print(multiplication)\n",
    "\n",
    "# Division\n",
    "division = s1 / s2\n",
    "print(\"Division:\")\n",
    "print(division)\n"
   ]
  },
  {
   "cell_type": "markdown",
   "id": "34858fa3",
   "metadata": {},
   "source": [
    "3. Converting a dictionary to a pandas series."
   ]
  },
  {
   "cell_type": "code",
   "execution_count": 5,
   "id": "27805587",
   "metadata": {},
   "outputs": [
    {
     "name": "stdout",
     "output_type": "stream",
     "text": [
      "Josh       24\n",
      "Sam        36\n",
      "Peace      19\n",
      "Charles    65\n",
      "Tom        44\n",
      "dtype: int64\n"
     ]
    }
   ],
   "source": [
    "# Dictionary to be used \n",
    "diction = {'Josh': 24, 'Sam': 36, 'Peace': 19, 'Charles': 65, 'Tom': 44}\n",
    "\n",
    "# Converting dictionary to series\n",
    "series = pd.Series(diction)\n",
    "\n",
    "print(series)\n"
   ]
  },
  {
   "cell_type": "markdown",
   "id": "5ea3e630",
   "metadata": {},
   "source": [
    "4. Converting  a series to an array"
   ]
  },
  {
   "cell_type": "code",
   "execution_count": 6,
   "id": "f78c2e47",
   "metadata": {},
   "outputs": [
    {
     "name": "stdout",
     "output_type": "stream",
     "text": [
      "['Love' 800 'Joy' 789.9 'Peace' True]\n"
     ]
    }
   ],
   "source": [
    "import numpy as np\n",
    "\n",
    "# Series to be used\n",
    "series1 = pd.Series(['Love', 800, 'Joy', 789.9, 'Peace', True])\n",
    "\n",
    "# Converting series to array\n",
    "array = np.array(series1)\n",
    "\n",
    "# Printing the array\n",
    "print(array)\n"
   ]
  },
  {
   "cell_type": "markdown",
   "id": "cc94f5de",
   "metadata": {},
   "source": [
    "5. Program to display most frequent value"
   ]
  },
  {
   "cell_type": "code",
   "execution_count": 13,
   "id": "01940d83",
   "metadata": {
    "scrolled": false
   },
   "outputs": [
    {
     "name": "stdout",
     "output_type": "stream",
     "text": [
      "0         4\n",
      "1         4\n",
      "2     Other\n",
      "3     Other\n",
      "4         4\n",
      "5     Other\n",
      "6     Other\n",
      "7         4\n",
      "8     Other\n",
      "9     Other\n",
      "10        4\n",
      "11    Other\n",
      "12    Other\n",
      "13        4\n",
      "14    Other\n",
      "15    Other\n",
      "16        4\n",
      "17    Other\n",
      "18    Other\n",
      "19    Other\n",
      "20    Other\n",
      "21        4\n",
      "22    Other\n",
      "23    Other\n",
      "24    Other\n",
      "25    Other\n",
      "dtype: object\n"
     ]
    }
   ],
   "source": [
    "sery=pd.Series([4,4,1,2,4,2,3,4,1,2,4,6,2,4,3,3,4,0,5,5,3,4,0,3,2,3])\n",
    "\n",
    "# Finding the most frequent value\n",
    "most_frequent = sery.mode()[0]\n",
    "\n",
    "sery[sery != most_frequent] = 'Other'\n",
    "\n",
    "print(sery)"
   ]
  },
  {
   "cell_type": "markdown",
   "id": "10419ece",
   "metadata": {},
   "source": [
    "<b>PART TWO<br>\n",
    "DATA FRAMES</b>"
   ]
  },
  {
   "cell_type": "markdown",
   "id": "a3a02773",
   "metadata": {},
   "source": [
    "1. Reading a given csv file"
   ]
  },
  {
   "cell_type": "code",
   "execution_count": 15,
   "id": "2ddcc090",
   "metadata": {},
   "outputs": [
    {
     "name": "stdout",
     "output_type": "stream",
     "text": [
      "     Year                      Date   Time      HomeTeam       AwayTeam  \\\n",
      "0    1957                  10-Feb-57    NaN       Sudan           Egypt   \n",
      "1    1957                  10-Feb-57    NaN    Ethiopia    South Africa   \n",
      "2    1957                  16-Feb-57    NaN       Egypt        Ethiopia   \n",
      "3    1959                  22-May-59    NaN        Egypt       Ethiopia   \n",
      "4    1959                  25-May-59    NaN       Sudan        Ethiopia   \n",
      "..    ...                        ...    ...          ...            ...   \n",
      "617  2019  11 July 2019 (2019-07-11)  21:00  Madagascar         Tunisia   \n",
      "618  2019  14 July 2019 (2019-07-14)  18:00     Senegal         Tunisia   \n",
      "619  2019  14 July 2019 (2019-07-14)  21:00     Algeria         Nigeria   \n",
      "620  2019  17 July 2019 (2019-07-17)  21:00     Tunisia         Nigeria   \n",
      "621  2019  19 July 2019 (2019-07-19)  21:00     Senegal         Algeria   \n",
      "\n",
      "     HomeTeamGoals  AwayTeamGoals                 Stage  \\\n",
      "0              1.0            2.0            Semifinals   \n",
      "1              NaN            NaN            Semifinals   \n",
      "2              4.0            0.0                 Final   \n",
      "3              4.0            0.0      Final Tournament   \n",
      "4              1.0            0.0      Final Tournament   \n",
      "..             ...            ...                   ...   \n",
      "617            0.0            3.0        Quarter-finals   \n",
      "618            1.0            0.0           Semi-finals   \n",
      "619            2.0            1.0           Semi-finals   \n",
      "620            0.0            1.0  Third place play-off   \n",
      "621            0.0            1.0                 Final   \n",
      "\n",
      "                                  SpecialWinConditions  \\\n",
      "0                                                  NaN   \n",
      "1    Ethiopia  wins due to disqualification of othe...   \n",
      "2                                                  NaN   \n",
      "3                                                  NaN   \n",
      "4                                                  NaN   \n",
      "..                                                 ...   \n",
      "617                                                NaN   \n",
      "618                              win after extra time    \n",
      "619                                                NaN   \n",
      "620                                                NaN   \n",
      "621                                                NaN   \n",
      "\n",
      "                         Stadium       City  Attendance  \n",
      "0              Municipal Stadium   Khartoum     30000.0  \n",
      "1                            NaN        NaN         NaN  \n",
      "2              Municipal Stadium   Khartoum     30000.0  \n",
      "3          Prince Farouk Stadium      Cairo     30000.0  \n",
      "4          Prince Farouk Stadium      Cairo     20000.0  \n",
      "..                           ...        ...         ...  \n",
      "617             Al Salam Stadium      Cairo      7568.0  \n",
      "618              30 June Stadium      Cairo      9143.0  \n",
      "619  Cairo International Stadium      Cairo     49775.0  \n",
      "620             Al Salam Stadium      Cairo      6340.0  \n",
      "621  Cairo International Stadium      Cairo     75000.0  \n",
      "\n",
      "[622 rows x 12 columns]\n"
     ]
    }
   ],
   "source": [
    "df = pd.read_csv('AfricaCupofNationsMatches.csv')\n",
    "print (df)"
   ]
  },
  {
   "cell_type": "markdown",
   "id": "0d8f3b30",
   "metadata": {},
   "source": [
    "2. Program to print the first 7 records"
   ]
  },
  {
   "cell_type": "code",
   "execution_count": 17,
   "id": "507b2092",
   "metadata": {},
   "outputs": [
    {
     "name": "stdout",
     "output_type": "stream",
     "text": [
      "   Year      Date  Time    HomeTeam       AwayTeam  HomeTeamGoals  \\\n",
      "0  1957  10-Feb-57   NaN     Sudan           Egypt            1.0   \n",
      "1  1957  10-Feb-57   NaN  Ethiopia    South Africa            NaN   \n",
      "2  1957  16-Feb-57   NaN     Egypt        Ethiopia            4.0   \n",
      "3  1959  22-May-59   NaN      Egypt       Ethiopia            4.0   \n",
      "4  1959  25-May-59   NaN     Sudan        Ethiopia            1.0   \n",
      "5  1959  29-May-59   NaN      Egypt          Sudan            2.0   \n",
      "6  1962  14-Jan-62   NaN  Ethiopia         Tunisia            4.0   \n",
      "\n",
      "   AwayTeamGoals             Stage  \\\n",
      "0            2.0        Semifinals   \n",
      "1            NaN        Semifinals   \n",
      "2            0.0             Final   \n",
      "3            0.0  Final Tournament   \n",
      "4            0.0  Final Tournament   \n",
      "5            1.0  Final Tournament   \n",
      "6            2.0        Semifinals   \n",
      "\n",
      "                                SpecialWinConditions                 Stadium  \\\n",
      "0                                                NaN       Municipal Stadium   \n",
      "1  Ethiopia  wins due to disqualification of othe...                     NaN   \n",
      "2                                                NaN       Municipal Stadium   \n",
      "3                                                NaN   Prince Farouk Stadium   \n",
      "4                                                NaN   Prince Farouk Stadium   \n",
      "5                                                NaN   Prince Farouk Stadium   \n",
      "6                                                NaN  Hailé Sélassié Stadium   \n",
      "\n",
      "           City  Attendance  \n",
      "0      Khartoum     30000.0  \n",
      "1           NaN         NaN  \n",
      "2      Khartoum     30000.0  \n",
      "3         Cairo     30000.0  \n",
      "4         Cairo     20000.0  \n",
      "5         Cairo     30000.0  \n",
      "6   Addis Ababa     30000.0  \n"
     ]
    }
   ],
   "source": [
    "first_seven_rows = df.head(7)\n",
    "print(first_seven_rows)"
   ]
  },
  {
   "cell_type": "markdown",
   "id": "3c884c8b",
   "metadata": {},
   "source": [
    "3. Pandas program to select the ‘HomeTeam’, ‘AwayTeam’, ‘HomeTeamGoals’ and ‘AwayTeamGoals’ columns the data frame."
   ]
  },
  {
   "cell_type": "code",
   "execution_count": 19,
   "id": "6a2b0f54",
   "metadata": {},
   "outputs": [
    {
     "name": "stdout",
     "output_type": "stream",
     "text": [
      "        HomeTeam       AwayTeam  HomeTeamGoals  AwayTeamGoals\n",
      "0         Sudan           Egypt            1.0            2.0\n",
      "1      Ethiopia    South Africa            NaN            NaN\n",
      "2         Egypt        Ethiopia            4.0            0.0\n",
      "3          Egypt       Ethiopia            4.0            0.0\n",
      "4         Sudan        Ethiopia            1.0            0.0\n",
      "..           ...            ...            ...            ...\n",
      "617  Madagascar         Tunisia            0.0            3.0\n",
      "618     Senegal         Tunisia            1.0            0.0\n",
      "619     Algeria         Nigeria            2.0            1.0\n",
      "620     Tunisia         Nigeria            0.0            1.0\n",
      "621     Senegal         Algeria            0.0            1.0\n",
      "\n",
      "[622 rows x 4 columns]\n"
     ]
    }
   ],
   "source": [
    "selected_columns = df[['HomeTeam', 'AwayTeam', 'HomeTeamGoals', 'AwayTeamGoals']]\n",
    "print(selected_columns)"
   ]
  },
  {
   "cell_type": "markdown",
   "id": "32cbbff7",
   "metadata": {},
   "source": [
    "4. Pandas program to select the rows where Egypt appears"
   ]
  },
  {
   "cell_type": "code",
   "execution_count": 22,
   "id": "4d5c907a",
   "metadata": {},
   "outputs": [
    {
     "name": "stdout",
     "output_type": "stream",
     "text": [
      "    Year      Date  Time    HomeTeam   AwayTeam  HomeTeamGoals  AwayTeamGoals  \\\n",
      "3   1959  22-May-59   NaN      Egypt   Ethiopia            4.0            0.0   \n",
      "5   1959  29-May-59   NaN      Egypt      Sudan            2.0            1.0   \n",
      "7   1962  18-Jan-62   NaN      Egypt     Uganda            2.0            1.0   \n",
      "9   1962  21-Jan-62   NaN  Ethiopia       Egypt            4.0            2.0   \n",
      "13  1963  24-Nov-63   NaN      Egypt    Nigeria            6.0            3.0   \n",
      "14  1963  26-Nov-63   NaN      Egypt      Sudan            2.0            2.0   \n",
      "16  1963  30-Nov-63   NaN      Egypt   Ethiopia            3.0            0.0   \n",
      "\n",
      "                Stage    SpecialWinConditions                 Stadium  \\\n",
      "3    Final Tournament                     NaN   Prince Farouk Stadium   \n",
      "5    Final Tournament                     NaN   Prince Farouk Stadium   \n",
      "7          Semifinals                     NaN  Hailé Sélassié Stadium   \n",
      "9               Final   win after extra time   Hailé Sélassié Stadium   \n",
      "13            Group B                     NaN   Kumasi Sports Stadium   \n",
      "14            Group B                     NaN   Kumasi Sports Stadium   \n",
      "16  Third place match                     NaN    Accra Sports Stadium   \n",
      "\n",
      "            City  Attendance  \n",
      "3          Cairo     30000.0  \n",
      "5          Cairo     30000.0  \n",
      "7    Addis Ababa     30000.0  \n",
      "9    Addis Ababa         NaN  \n",
      "13        Kumasi         NaN  \n",
      "14        Kumasi         NaN  \n",
      "16         Accra         NaN  \n"
     ]
    }
   ],
   "source": [
    "egypt_rows = df[(df['HomeTeam'] == 'Egypt') | (df['AwayTeam'] == 'Egypt')]\n",
    "print(egypt_rows)\n"
   ]
  },
  {
   "cell_type": "markdown",
   "id": "c00d2df9",
   "metadata": {},
   "source": [
    "5. Pandas program to count the number of rows and columns of your data frame."
   ]
  },
  {
   "cell_type": "code",
   "execution_count": 23,
   "id": "a1f1cbd8",
   "metadata": {},
   "outputs": [
    {
     "name": "stdout",
     "output_type": "stream",
     "text": [
      "Rows:  622\n",
      "Columns:  12\n"
     ]
    }
   ],
   "source": [
    "#Number of rows\n",
    "num_rows = len(df)\n",
    "\n",
    "#Number of columns\n",
    "num_columns = len(df.columns)\n",
    "print(\"Rows: \",num_rows)\n",
    "print(\"Columns: \",num_columns)"
   ]
  },
  {
   "cell_type": "markdown",
   "id": "c858918c",
   "metadata": {},
   "source": [
    "6. Pandas program to select the rows where the ‘Attendance’ is missing."
   ]
  },
  {
   "cell_type": "code",
   "execution_count": 25,
   "id": "64661db1",
   "metadata": {},
   "outputs": [
    {
     "name": "stdout",
     "output_type": "stream",
     "text": [
      "     Year                         Date   Time        HomeTeam       AwayTeam  \\\n",
      "1    1957                     10-Feb-57    NaN      Ethiopia    South Africa   \n",
      "8    1962                     20-Jan-62    NaN       Tunisia          Uganda   \n",
      "9    1962                     21-Jan-62    NaN      Ethiopia           Egypt   \n",
      "10   1963                     24-Nov-63    NaN         Ghana         Tunisia   \n",
      "11   1963                     26-Nov-63    NaN         Ghana        Ethiopia   \n",
      "..    ...                           ...    ...            ...            ...   \n",
      "565  2017  29 January 2017 (2017-01-29)  20:00         Egypt         Morocco   \n",
      "566  2017  1 February 2017 (2017-02-01)  20:00  Burkina Faso           Egypt   \n",
      "567  2017  2 February 2017 (2017-02-02)  20:00      Cameroon           Ghana   \n",
      "568  2017  4 February 2017 (2017-02-04)  20:00  Burkina Faso           Ghana   \n",
      "569  2017  5 February 2017 (2017-02-05)  20:00         Egypt        Cameroon   \n",
      "\n",
      "     HomeTeamGoals  AwayTeamGoals                 Stage  \\\n",
      "1              NaN            NaN            Semifinals   \n",
      "8              3.0            0.0     Third place match   \n",
      "9              4.0            2.0                 Final   \n",
      "10             1.0            1.0               Group A   \n",
      "11             2.0            0.0               Group A   \n",
      "..             ...            ...                   ...   \n",
      "565            1.0            0.0        Quarter-finals   \n",
      "566            1.0            1.0           Semi-finals   \n",
      "567            2.0            0.0           Semi-finals   \n",
      "568            1.0            0.0  Third place play-off   \n",
      "569            1.0            2.0                 Final   \n",
      "\n",
      "                                  SpecialWinConditions  \\\n",
      "1    Ethiopia  wins due to disqualification of othe...   \n",
      "8                                                  NaN   \n",
      "9                                win after extra time    \n",
      "10                                                 NaN   \n",
      "11                                                 NaN   \n",
      "..                                                 ...   \n",
      "565                                                NaN   \n",
      "566                        Egypt win on Penalities 3-4   \n",
      "567                                                NaN   \n",
      "568                                                NaN   \n",
      "569                                                NaN   \n",
      "\n",
      "                    Stadium          City  Attendance  \n",
      "1                       NaN           NaN         NaN  \n",
      "8    Hailé Sélassié Stadium   Addis Ababa         NaN  \n",
      "9    Hailé Sélassié Stadium   Addis Ababa         NaN  \n",
      "10     Accra Sports Stadium         Accra         NaN  \n",
      "11     Accra Sports Stadium         Accra         NaN  \n",
      "..                      ...           ...         ...  \n",
      "565    Stade de Port-Gentil   Port-Gentil         NaN  \n",
      "566       Stade de l'Amitié    Libreville         NaN  \n",
      "567    Stade de Franceville   Franceville         NaN  \n",
      "568    Stade de Port-Gentil   Port-Gentil         NaN  \n",
      "569       Stade de l'Amitié    Libreville         NaN  \n",
      "\n",
      "[100 rows x 12 columns]\n"
     ]
    }
   ],
   "source": [
    "missing_attendance = df[df['Attendance'].isnull()]\n",
    "print(missing_attendance)"
   ]
  },
  {
   "cell_type": "markdown",
   "id": "4442dc1a",
   "metadata": {},
   "source": [
    "7. Pandas program to select the rows where the ‘HomeTeamGoals’ are between 3 and 6 inclusive."
   ]
  },
  {
   "cell_type": "code",
   "execution_count": 26,
   "id": "a7d0b2af",
   "metadata": {},
   "outputs": [
    {
     "name": "stdout",
     "output_type": "stream",
     "text": [
      "     Year                         Date   Time    HomeTeam     AwayTeam  \\\n",
      "2    1957                     16-Feb-57    NaN     Egypt      Ethiopia   \n",
      "3    1959                     22-May-59    NaN      Egypt     Ethiopia   \n",
      "6    1962                     14-Jan-62    NaN  Ethiopia       Tunisia   \n",
      "8    1962                     20-Jan-62    NaN   Tunisia        Uganda   \n",
      "9    1962                     21-Jan-62    NaN  Ethiopia         Egypt   \n",
      "..    ...                           ...    ...        ...          ...   \n",
      "553  2017  20 January 2017 (2017-01-20)  20:00   Morocco          Togo   \n",
      "585  2019     27 June 2019 (2019-06-27)  22:00     Kenya      Tanzania   \n",
      "595  2019     24 June 2019 (2019-06-24)  22:00      Mali    Mauritania   \n",
      "608  2019      6 July 2019 (2019-07-06)  18:00   Nigeria      Cameroon   \n",
      "611  2019      7 July 2019 (2019-07-07)  21:00   Algeria        Guinea   \n",
      "\n",
      "     HomeTeamGoals  AwayTeamGoals              Stage    SpecialWinConditions  \\\n",
      "2              4.0            0.0              Final                     NaN   \n",
      "3              4.0            0.0   Final Tournament                     NaN   \n",
      "6              4.0            2.0         Semifinals                     NaN   \n",
      "8              3.0            0.0  Third place match                     NaN   \n",
      "9              4.0            2.0              Final   win after extra time    \n",
      "..             ...            ...                ...                     ...   \n",
      "553            3.0            1.0            Group C                     NaN   \n",
      "585            3.0            2.0            Group C                     NaN   \n",
      "595            4.0            1.0            Group E                     NaN   \n",
      "608            3.0            2.0        Round of 16                     NaN   \n",
      "611            3.0            0.0        Round of 16                     NaN   \n",
      "\n",
      "                    Stadium          City  Attendance  \n",
      "2         Municipal Stadium      Khartoum     30000.0  \n",
      "3     Prince Farouk Stadium         Cairo     30000.0  \n",
      "6    Hailé Sélassié Stadium   Addis Ababa     30000.0  \n",
      "8    Hailé Sélassié Stadium   Addis Ababa         NaN  \n",
      "9    Hailé Sélassié Stadium   Addis Ababa         NaN  \n",
      "..                      ...           ...         ...  \n",
      "553            Stade d'Oyem          Oyem         NaN  \n",
      "585         30 June Stadium         Cairo      7233.0  \n",
      "595            Suez Stadium          Suez      6202.0  \n",
      "608      Alexandria Stadium    Alexandria     10000.0  \n",
      "611         30 June Stadium         Cairo      8205.0  \n",
      "\n",
      "[138 rows x 12 columns]\n"
     ]
    }
   ],
   "source": [
    "selected_HomeTeamGoals_rows = df[(df['HomeTeamGoals'] >= 3) & (df['HomeTeamGoals'] <= 6)]\n",
    "print(selected_HomeTeamGoals_rows)\n"
   ]
  },
  {
   "cell_type": "markdown",
   "id": "3c0089fb",
   "metadata": {},
   "source": [
    "8. Pandas program to change the “AwayTeamGoals” in the 3rd row to 10."
   ]
  },
  {
   "cell_type": "code",
   "execution_count": 27,
   "id": "7efbad11",
   "metadata": {},
   "outputs": [
    {
     "name": "stdout",
     "output_type": "stream",
     "text": [
      "     Year                      Date   Time      HomeTeam       AwayTeam  \\\n",
      "0    1957                  10-Feb-57    NaN       Sudan           Egypt   \n",
      "1    1957                  10-Feb-57    NaN    Ethiopia    South Africa   \n",
      "2    1957                  16-Feb-57    NaN       Egypt        Ethiopia   \n",
      "3    1959                  22-May-59    NaN        Egypt       Ethiopia   \n",
      "4    1959                  25-May-59    NaN       Sudan        Ethiopia   \n",
      "..    ...                        ...    ...          ...            ...   \n",
      "617  2019  11 July 2019 (2019-07-11)  21:00  Madagascar         Tunisia   \n",
      "618  2019  14 July 2019 (2019-07-14)  18:00     Senegal         Tunisia   \n",
      "619  2019  14 July 2019 (2019-07-14)  21:00     Algeria         Nigeria   \n",
      "620  2019  17 July 2019 (2019-07-17)  21:00     Tunisia         Nigeria   \n",
      "621  2019  19 July 2019 (2019-07-19)  21:00     Senegal         Algeria   \n",
      "\n",
      "     HomeTeamGoals  AwayTeamGoals                 Stage  \\\n",
      "0              1.0            2.0            Semifinals   \n",
      "1              NaN            NaN            Semifinals   \n",
      "2              4.0           10.0                 Final   \n",
      "3              4.0            0.0      Final Tournament   \n",
      "4              1.0            0.0      Final Tournament   \n",
      "..             ...            ...                   ...   \n",
      "617            0.0            3.0        Quarter-finals   \n",
      "618            1.0            0.0           Semi-finals   \n",
      "619            2.0            1.0           Semi-finals   \n",
      "620            0.0            1.0  Third place play-off   \n",
      "621            0.0            1.0                 Final   \n",
      "\n",
      "                                  SpecialWinConditions  \\\n",
      "0                                                  NaN   \n",
      "1    Ethiopia  wins due to disqualification of othe...   \n",
      "2                                                  NaN   \n",
      "3                                                  NaN   \n",
      "4                                                  NaN   \n",
      "..                                                 ...   \n",
      "617                                                NaN   \n",
      "618                              win after extra time    \n",
      "619                                                NaN   \n",
      "620                                                NaN   \n",
      "621                                                NaN   \n",
      "\n",
      "                         Stadium       City  Attendance  \n",
      "0              Municipal Stadium   Khartoum     30000.0  \n",
      "1                            NaN        NaN         NaN  \n",
      "2              Municipal Stadium   Khartoum     30000.0  \n",
      "3          Prince Farouk Stadium      Cairo     30000.0  \n",
      "4          Prince Farouk Stadium      Cairo     20000.0  \n",
      "..                           ...        ...         ...  \n",
      "617             Al Salam Stadium      Cairo      7568.0  \n",
      "618              30 June Stadium      Cairo      9143.0  \n",
      "619  Cairo International Stadium      Cairo     49775.0  \n",
      "620             Al Salam Stadium      Cairo      6340.0  \n",
      "621  Cairo International Stadium      Cairo     75000.0  \n",
      "\n",
      "[622 rows x 12 columns]\n"
     ]
    }
   ],
   "source": [
    "df.at[2, 'AwayTeamGoals'] = 10\n",
    "print(df)"
   ]
  },
  {
   "cell_type": "markdown",
   "id": "ed1c646a",
   "metadata": {},
   "source": [
    "9. Pandas program to sort the DataFrame first by ‘HomeTeam’ in ascending order, then by ‘HomeTeamScores’ in descending order."
   ]
  },
  {
   "cell_type": "code",
   "execution_count": 30,
   "id": "44f36e38",
   "metadata": {},
   "outputs": [
    {
     "name": "stdout",
     "output_type": "stream",
     "text": [
      "     Year                         Date           Time    HomeTeam  \\\n",
      "205  1990                      2-Mar-90            NaN   Algeria    \n",
      "29   1968                     14-Jan-68            NaN   Algeria    \n",
      "135  1980                     16-Mar-80            NaN   Algeria    \n",
      "164  1984                      5-Mar-84            NaN   Algeria    \n",
      "171  1984                     17-Mar-84            NaN   Algeria    \n",
      "..    ...                           ...            ...        ...   \n",
      "521  2012                     12-Feb-12  20:30[note 1]    Zambia    \n",
      "549  2017  23 January 2017 (2017-01-23)          20:00  Zimbabwe    \n",
      "398  2004                     25-Jan-04          16:30  Zimbabwe    \n",
      "437  2006                     23-Jan-06          20:00  Zimbabwe    \n",
      "575  2019     30 June 2019 (2019-06-30)          21:00  Zimbabwe    \n",
      "\n",
      "         AwayTeam  HomeTeamGoals  AwayTeamGoals              Stage  \\\n",
      "205       Nigeria            5.0            1.0            Group A   \n",
      "29         Uganda            4.0            0.0            Group A   \n",
      "135        Guinea            3.0            2.0            Group B   \n",
      "164        Malawi            3.0            0.0            Group B   \n",
      "171         Egypt            3.0            1.0  Third place match   \n",
      "..            ...            ...            ...                ...   \n",
      "521   Ivory Coast            0.0            0.0              Final   \n",
      "549       Tunisia            2.0            4.0            Group B   \n",
      "398         Egypt            1.0            2.0            Group C   \n",
      "437       Senegal            0.0            2.0            Group D   \n",
      "575      DR Congo            0.0            4.0            Group A   \n",
      "\n",
      "              SpecialWinConditions                       Stadium  \\\n",
      "205                            NaN          Stade 5 Juillet 1962   \n",
      "29                             NaN        Hailé Sélassié Stadium   \n",
      "135                            NaN               Liberty Stadium   \n",
      "164                            NaN                  Stade Bouaké   \n",
      "171                            NaN  Stade Félix Houphouët-Boigny   \n",
      "..                             ...                           ...   \n",
      "521  Zambia  win on Penalities 8-7              Stade d'Angondjé   \n",
      "549                            NaN             Stade de l'Amitié   \n",
      "398                            NaN          Stade Taïeb El Mhiri   \n",
      "437                            NaN             Port Said Stadium   \n",
      "575                            NaN               30 June Stadium   \n",
      "\n",
      "             City  Attendance  \n",
      "205       Algiers     85000.0  \n",
      "29    Addis Ababa     25000.0  \n",
      "135        Ibadan     20000.0  \n",
      "164        Bouaké     10000.0  \n",
      "171       Abidjan       500.0  \n",
      "..            ...         ...  \n",
      "521    Libreville     40000.0  \n",
      "549    Libreville         NaN  \n",
      "398          Sfax     22000.0  \n",
      "437     Port Said     15000.0  \n",
      "575         Cairo      4364.0  \n",
      "\n",
      "[622 rows x 12 columns]\n"
     ]
    }
   ],
   "source": [
    "sorted_df = df.sort_values(by=['HomeTeam', 'HomeTeamGoals'], ascending=[True, False])\n",
    "print(sorted_df)"
   ]
  },
  {
   "cell_type": "markdown",
   "id": "5138658c",
   "metadata": {},
   "source": [
    "10. Pandas program to get list from DataFrame column headers."
   ]
  },
  {
   "cell_type": "code",
   "execution_count": 31,
   "id": "21818fea",
   "metadata": {},
   "outputs": [
    {
     "name": "stdout",
     "output_type": "stream",
     "text": [
      "['Year', 'Date ', 'Time ', 'HomeTeam', 'AwayTeam', 'HomeTeamGoals', 'AwayTeamGoals', 'Stage', 'SpecialWinConditions', 'Stadium', 'City', 'Attendance']\n"
     ]
    }
   ],
   "source": [
    "column_headers = list(df.columns)\n",
    "print(column_headers)"
   ]
  },
  {
   "cell_type": "markdown",
   "id": "acaaf0f9",
   "metadata": {},
   "source": [
    "11. Pandas program to append a column of your choice to your DataFrame"
   ]
  },
  {
   "cell_type": "markdown",
   "id": "9d08f480",
   "metadata": {},
   "source": [
    "12. Pandas program to add 2 rows to your DataFrame."
   ]
  },
  {
   "cell_type": "code",
   "execution_count": null,
   "id": "81e1d042",
   "metadata": {},
   "outputs": [],
   "source": []
  }
 ],
 "metadata": {
  "kernelspec": {
   "display_name": "Python 3 (ipykernel)",
   "language": "python",
   "name": "python3"
  },
  "language_info": {
   "codemirror_mode": {
    "name": "ipython",
    "version": 3
   },
   "file_extension": ".py",
   "mimetype": "text/x-python",
   "name": "python",
   "nbconvert_exporter": "python",
   "pygments_lexer": "ipython3",
   "version": "3.10.9"
  }
 },
 "nbformat": 4,
 "nbformat_minor": 5
}
