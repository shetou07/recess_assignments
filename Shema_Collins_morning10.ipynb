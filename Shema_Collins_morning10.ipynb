{
 "cells": [
  {
   "cell_type": "code",
   "execution_count": 1,
   "id": "a2cda034",
   "metadata": {},
   "outputs": [],
   "source": [
    "import requests\n",
    "import csv\n",
    "import json\n",
    "from bs4 import BeautifulSoup\n",
    "\n"
   ]
  },
  {
   "cell_type": "code",
   "execution_count": 4,
   "id": "a9e74b5c",
   "metadata": {},
   "outputs": [
    {
     "name": "stdout",
     "output_type": "stream",
     "text": [
      "Failed to fetch the URL: https://xeno-canto.org/api/2/recordings\n",
      "Data extraction failed.\n"
     ]
    }
   ],
   "source": [
    "\n",
    "def scrape_bird_species(url):\n",
    "    response = requests.get(url)\n",
    "    if response.status_code == 200:\n",
    "        soup = BeautifulSoup(response.content, 'html.parser')\n",
    "        bird_species = []\n",
    "\n",
    "        \n",
    "        species_elements = soup.find_all('span', class_='bird-species')\n",
    "        family_elements = soup.find_all('span', class_='bird-family')\n",
    "\n",
    "        for species_element, family_element in zip(species_elements, family_elements):\n",
    "            species = species_element.get_text()\n",
    "            family = family_element.get_text()\n",
    "            bird_species.append({'species': species, 'family': family})\n",
    "\n",
    "        return bird_species\n",
    "    else:\n",
    "        print(f\"Failed to fetch the URL: {url}\")\n",
    "        return None\n",
    "\n",
    "def save_to_csv(data, csv_filename):\n",
    "    with open(csv_filename, 'w', newline='', encoding='utf-8') as csvfile:\n",
    "        fieldnames = ['species', 'family']\n",
    "        writer = csv.DictWriter(csvfile, fieldnames=fieldnames)\n",
    "        writer.writeheader()\n",
    "        for item in data:\n",
    "            writer.writerow(item)\n",
    "\n",
    "def save_to_json(data, json_filename):\n",
    "    with open(json_filename, 'w', encoding='utf-8') as jsonfile:\n",
    "        json.dump(data, jsonfile, ensure_ascii=False, indent=4)\n",
    "\n",
    "if __name__ == '__main__':\n",
    "    website_url = 'https://xeno-canto.org/api/2/recordings'  # Replace with the actual URL of the website.\n",
    "    bird_data = scrape_bird_species(website_url)\n",
    "\n",
    "    if bird_data:\n",
    "        csv_filename = 'bird_species.csv'\n",
    "        json_filename = 'bird_species.json'\n",
    "        save_to_csv(bird_data, csv_filename)\n",
    "        save_to_json(bird_data, json_filename)\n",
    "        print(f\"Data has been successfully extracted and saved to {csv_filename} and {json_filename}.\")\n",
    "    else:\n",
    "        print(\"Data extraction failed.\")\n"
   ]
  },
  {
   "cell_type": "code",
   "execution_count": null,
   "id": "b6d1c9f0",
   "metadata": {},
   "outputs": [],
   "source": []
  }
 ],
 "metadata": {
  "kernelspec": {
   "display_name": "Python 3 (ipykernel)",
   "language": "python",
   "name": "python3"
  },
  "language_info": {
   "codemirror_mode": {
    "name": "ipython",
    "version": 3
   },
   "file_extension": ".py",
   "mimetype": "text/x-python",
   "name": "python",
   "nbconvert_exporter": "python",
   "pygments_lexer": "ipython3",
   "version": "3.11.3"
  }
 },
 "nbformat": 4,
 "nbformat_minor": 5
}
